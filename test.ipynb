{
 "cells": [
  {
   "cell_type": "code",
   "execution_count": 2,
   "metadata": {},
   "outputs": [],
   "source": [
    "import numpy as np\n",
    "\n",
    "def load_test_data(file_path):\n",
    "    \"\"\"Load test data from CSV.\"\"\"\n",
    "    data = np.loadtxt(file_path, delimiter=',', skiprows=1)\n",
    "    X_test = data[:, 0]\n",
    "    y_test = data[:, 1]\n",
    "    return X_test, y_test\n",
    "\n",
    "file_path = 'data/data_0.csv'\n",
    "X, y = load_test_data(file_path)"
   ]
  },
  {
   "cell_type": "code",
   "execution_count": 16,
   "metadata": {},
   "outputs": [
    {
     "data": {
      "text/plain": [
       "'35'"
      ]
     },
     "execution_count": 16,
     "metadata": {},
     "output_type": "execute_result"
    }
   ],
   "source": [
    "import os\n",
    "\n",
    "def check_most_recent_model(model_folder_path):\n",
    "    \"\"\"Scan and check if a model is trained on a batch.\"\"\"\n",
    "    models = os.listdir('model')\n",
    "    # sort the models by index\n",
    "    models.sort(key=lambda x: int(x.split(\".\")[0].split(\"_\")[1]))\n",
    "    recent_model = models[-1]\n",
    "    recent_model_index = recent_model.split(\".\")[0].split(\"_\")[1]\n",
    "    return recent_model_index\n",
    "\n",
    "check_most_recent_model(\"model\")"
   ]
  },
  {
   "cell_type": "code",
   "execution_count": 18,
   "metadata": {},
   "outputs": [
    {
     "data": {
      "text/plain": [
       "36"
      ]
     },
     "execution_count": 18,
     "metadata": {},
     "output_type": "execute_result"
    }
   ],
   "source": [
    "def check_most_recent_data(data_folder_path):\n",
    "    \"\"\"Return index for train.\"\"\"\n",
    "    data = os.listdir(data_folder_path)\n",
    "    # sort the data by index\n",
    "    data.sort(key=lambda x: int(x.split(\".\")[0].split(\"_\")[1]))\n",
    "    recent_data = data[-1]\n",
    "    recent_data_index = recent_data.split(\".\")[0].split(\"_\")[1]\n",
    "    index_to_gen_data = int(recent_data_index) + 1\n",
    "    return index_to_gen_data\n",
    "\n",
    "check_most_recent_data(\"data\")"
   ]
  },
  {
   "cell_type": "code",
   "execution_count": 12,
   "metadata": {},
   "outputs": [
    {
     "name": "stdout",
     "output_type": "stream",
     "text": [
      "model_0.json\n",
      "model_1.json\n",
      "model_2.json\n",
      "model_3.json\n"
     ]
    }
   ],
   "source": [
    "import os\n",
    "def evaluate_best_model(model_folder_path):\n",
    "    \"\"\"Evaluate the best model on a batch.\"\"\"\n",
    "    models = os.listdir(model_folder_path)\n",
    "    for model in models:\n",
    "        print(model)\n",
    "evaluate_best_model(\"model\")"
   ]
  },
  {
   "cell_type": "code",
   "execution_count": null,
   "metadata": {},
   "outputs": [],
   "source": []
  }
 ],
 "metadata": {
  "kernelspec": {
   "display_name": "base",
   "language": "python",
   "name": "python3"
  },
  "language_info": {
   "codemirror_mode": {
    "name": "ipython",
    "version": 3
   },
   "file_extension": ".py",
   "mimetype": "text/x-python",
   "name": "python",
   "nbconvert_exporter": "python",
   "pygments_lexer": "ipython3",
   "version": "3.11.7"
  }
 },
 "nbformat": 4,
 "nbformat_minor": 2
}
